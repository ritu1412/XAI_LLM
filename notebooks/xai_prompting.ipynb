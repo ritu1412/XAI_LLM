{
 "cells": [
  {
   "cell_type": "markdown",
   "metadata": {},
   "source": [
    "# AIPI 590 - XAI | Assignment #8\n",
    "### XAI in LLMs\n",
    "### Ritu Toshniwal\n",
    "\n",
    "[![Open In Collab](https://colab.research.google.com/assets/colab-badge.svg)](https://colab.research.google.com/github/ritu1412/XAI_LLM/blob/main/notebooks/xai_prompting.ipynb)"
   ]
  },
  {
   "cell_type": "code",
   "execution_count": null,
   "metadata": {},
   "outputs": [],
   "source": [
    "import os\n",
    "\n",
    "# Remove Colab default sample_data\n",
    "!rm -r ./sample_data\n",
    "\n",
    "# Clone GitHub files to colab workspace\n",
    "repo_name = \"SHAP-Interpretability\"\n",
    "git_path = 'https://github.com/ritu1412/XAI_LLM.git' #Change to your path\n",
    "!git clone \"{git_path}\"\n",
    "\n",
    "# Install dependencies from requirements.txt file\n",
    "!pip install -r \"{os.path.join(repo_name,'requirements.txt')}\" #Add if using requirements.txt\n",
    "\n",
    "# Change working directory to location of notebook\n",
    "notebook_dir = 'notebooks'\n",
    "path_to_notebook = os.path.join(repo_name,notebook_dir)\n",
    "%cd \"{path_to_notebook}\"\n",
    "%ls"
   ]
  },
  {
   "cell_type": "code",
   "execution_count": 6,
   "metadata": {},
   "outputs": [],
   "source": [
    "import os\n",
    "from openai import OpenAI\n",
    "import warnings\n",
    "warnings.filterwarnings(\"ignore\")"
   ]
  },
  {
   "cell_type": "markdown",
   "metadata": {},
   "source": [
    "# Loading the model\n",
    "Used GPT4o-mini for analysis"
   ]
  },
  {
   "cell_type": "code",
   "execution_count": 7,
   "metadata": {},
   "outputs": [],
   "source": [
    "client = OpenAI(\n",
    "    api_key=os.getenv(\"OPENAI_API_KEY\"),\n",
    ")"
   ]
  },
  {
   "cell_type": "code",
   "execution_count": 12,
   "metadata": {},
   "outputs": [],
   "source": [
    "def generate_response(model,prompt):\n",
    "    try:\n",
    "        response = client.chat.completions.create(\n",
    "            model=model,\n",
    "            messages=[\n",
    "                {\"role\": \"user\", \"content\": prompt}\n",
    "            ],\n",
    "            temperature=0\n",
    "        )\n",
    "    except Exception as e:\n",
    "        print(f\"Error: {e}\")\n",
    "    return response"
   ]
  },
  {
   "cell_type": "code",
   "execution_count": 14,
   "metadata": {},
   "outputs": [
    {
     "name": "stdout",
     "output_type": "stream",
     "text": [
      "🌟✨ Discovering the magic of Duke University! 📚💙 From the stunning Gothic architecture to the vibrant campus life, every corner tells a story. Whether I'm wandering through the beautiful gardens or cheering on the Blue Devils, there's an undeniable energy that makes this place feel like home. 🏰🌿\n",
      "\n",
      "Here’s to late-night study sessions, unforgettable friendships, and the pursuit of knowledge! 🎓💪 #DukeUniversity #BlueDevilPride #CampusVibes #HigherEducation #DukeLife\n"
     ]
    }
   ],
   "source": [
    "base_prompt = \"Give me some creative text on Duke University for my instagram post.\"\n",
    "base_response = generate_response(\"gpt-4o-mini\", base_prompt)\n",
    "message_content = base_response.choices[0].message.content\n",
    "print(message_content)"
   ]
  },
  {
   "cell_type": "markdown",
   "metadata": {},
   "source": [
    "# Pertubations"
   ]
  },
  {
   "cell_type": "code",
   "execution_count": 17,
   "metadata": {},
   "outputs": [
    {
     "name": "stdout",
     "output_type": "stream",
     "text": [
      "\n",
      "Perturbation 1 (Prompt: 'Give me some inspirational text on Duke University for my instagram post.'):\n",
      "🌟 \"At Duke University, we don’t just chase dreams; we cultivate them. Here, in the heart of innovation and tradition, we learn to think critically, act compassionately, and lead boldly. Every lecture, every late-night study session, and every moment spent with friends shapes us into the leaders of tomorrow. Let’s embrace the journey, celebrate our diverse community, and strive for excellence together. 💙💛 #DukeUniversity #BlueDevilPride #Inspiration\" 🌟\n",
      "\n",
      "Perturbation 2 (Prompt: 'Give me some creative text on the Duke campus for my instagram post.'):\n",
      "🌟✨ Strolling through the enchanting Duke University campus, where every corner whispers stories of innovation and tradition. From the majestic Duke Chapel piercing the sky to the serene beauty of the Sarah P. Duke Gardens, this place feels like a dream woven into reality. 🌿💙\n",
      "\n",
      "Whether it’s the vibrant fall leaves or the sun-kissed stone pathways, every moment here is a reminder that magic exists in the everyday. Here’s to chasing knowledge, forging friendships, and creating memories that will last a lifetime! 📚💫 #DukeUniversity #CampusVibes #BlueDevilDreams\n",
      "\n",
      "Perturbation 3 (Prompt: 'Give me some creative text on Duke University for my instagram post. with hashtags'):\n",
      "🌟✨ Discovering the magic of Duke University! From the stunning Gothic architecture to the vibrant campus life, every corner tells a story. Whether it’s the breathtaking views from the Duke Gardens or the electric atmosphere at a Blue Devils game, there’s an undeniable spirit that makes this place feel like home. Here’s to the friendships, the late-night study sessions, and the unforgettable memories! 💙💛 #DukeUniversity #BlueDevils #CampusLife #DukeGardens #CollegeMemories #HigherEducation #DukePride #ExploreDuke #AcademicExcellence #FutureLeaders\n",
      "\n",
      "Perturbation 4 (Prompt: 'Give me some creative text on Duke University for my social media post.'):\n",
      "🌟✨ Discover the magic of Duke University! 🌟✨ Nestled in the heart of North Carolina, this iconic institution is more than just a university—it's a vibrant community where innovation meets tradition. From the stunning Gothic architecture of Duke Chapel to the serene beauty of the Sarah P. Duke Gardens, every corner of this campus tells a story. 📚💙\n",
      "\n",
      "At Duke, students are not just learners; they are changemakers, thinkers, and dreamers. With a commitment to academic excellence and a passion for service, Blue Devils are shaping the future in fields ranging from medicine to environmental science. 🌍💡\n",
      "\n",
      "Join us in celebrating the spirit of curiosity and collaboration that defines Duke. Whether you're cheering on our legendary basketball team or exploring groundbreaking research, there's always something exciting happening here! 🏀🎉\n",
      "\n",
      "#DukeUniversity #BlueDevilPride #Innovation #Tradition #CampusLife #FutureLeaders\n",
      "\n",
      "Perturbation 5 (Prompt: 'Give me some creative caption on Duke University for my instagram post.'):\n",
      "Sure! Here are some creative captions you can use for your Duke University Instagram post:\n",
      "\n",
      "1. \"Blue skies, blue devils, and endless possibilities. 💙 #DukeUniversity\"\n",
      "2. \"Where the Gothic architecture meets the spirit of innovation. 🏰✨ #DukeLife\"\n",
      "3. \"Living the dream in the heart of Durham. 🌟 #DukeDiaries\"\n",
      "4. \"From the chapel to the court, every corner of Duke tells a story. 📖💙 #DukeMoments\"\n",
      "5. \"Finding my place among the stars at Duke. 🌌 #BlueDevilPride\"\n",
      "6. \"Chasing knowledge and blue skies at Duke University. ☀️📚 #CampusVibes\"\n",
      "7. \"In a world full of choices, I chose Duke. 💙 #ForeverDuke\"\n",
      "8. \"Where every day is a new adventure and every moment is a memory. 🌟 #DukeAdventures\"\n",
      "9. \"Duke: A place where dreams take flight. 🚀💙 #DukeDreams\"\n",
      "10. \"Feeling inspired by the beauty and brilliance of Duke University. 🌿✨ #DukeInspiration\"\n",
      "\n",
      "Feel free to mix and match or modify them to fit your style!\n",
      "\n",
      "Perturbation 6 (Prompt: 'Give me some creative text on Duke University for my instagram post.!!!'):\n",
      "🌟✨ Discovering the magic of Duke University! 📚💙 From the stunning Gothic architecture to the vibrant blue skies, every corner of this campus tells a story. Whether I'm wandering through the beautiful gardens or soaking in the energy of the students, I’m constantly inspired by the spirit of innovation and excellence that thrives here. 🏛️🌿 \n",
      "\n",
      "Here’s to late-night study sessions, unforgettable friendships, and the pursuit of knowledge! 🎓💡 #DukeUniversity #BlueDevilPride #CampusVibes #Inspiration #CollegeLife\n"
     ]
    }
   ],
   "source": [
    "# Defining variations of the prompt (perturbations)\n",
    "perturbations = [\n",
    "    base_prompt.replace(\"creative\", \"inspirational\"),  # Changing \"creative\" to \"inspirational\"\n",
    "    base_prompt.replace(\"Duke University\", \"the Duke campus\"),  # Changing \"Duke University\" to \"the Duke campus\"\n",
    "    base_prompt + \" with hashtags\",  # Addding extra instruction for hashtags\n",
    "    base_prompt.replace(\"instagram\", \"social media\"),  # Changing \"Instagram\" to \"social media\"\n",
    "    base_prompt.replace(\"text\", \"caption\"),  # Changing \"text\" to \"caption\"\n",
    "    base_prompt + '!!!'  # Adding exclamation marks\n",
    "]\n",
    "\n",
    "# Generate responses for each perturbed prompt\n",
    "for i, perturbed_prompt in enumerate(perturbations, 1):\n",
    "    perturbed_response = generate_response(\"gpt-4o-mini\", perturbed_prompt)\n",
    "    message_content = perturbed_response.choices[0].message.content\n",
    "    print(f\"\\nPerturbation {i} (Prompt: '{perturbed_prompt}'):\\n{message_content}\")"
   ]
  },
  {
   "cell_type": "markdown",
   "metadata": {},
   "source": [
    "# Analysis"
   ]
  },
  {
   "cell_type": "markdown",
   "metadata": {},
   "source": [
    "| Prompt                                                                                   | Perturbation                                        | Output                                                                                                                                                                                                                                                                                                    | Difference with Baseline                                                                                   | Key Observations                                                |\n",
    "|------------------------------------------------------------------------------------------|-----------------------------------------------------|-----------------------------------------------------------------------------------------------------------------------------------------------------------------------------------------------------------------------------------------------------------------------------------------------------------|-----------------------------------------------------------------------------------------------------------|-----------------------------------------------------------------|\n",
    "| Give me some creative text on Duke University for my Instagram post.                     | Base prompt                                         | 🌟✨ Discovering the magic of Duke University! 📚💙 From the stunning Gothic architecture to the vibrant campus life, every corner tells a story. Whether I'm wandering through the beautiful gardens or cheering on the Blue Devils, there's an undeniable energy that makes this place feel like home. 🏰🌿 Here’s to late-night study sessions, unforgettable friendships, and the pursuit of knowledge! 🎓💪 #DukeUniversity #BlueDevilPride #CampusVibes #HigherEducation #DukeLife | Baseline                                                                                                  | Sets the base tone for other outputs                            |\n",
    "| Give me some inspirational text on Duke University for my Instagram post.                | Changed 'creative' to 'inspirational'               | 🌟 \"At Duke University, we don’t just chase dreams; we cultivate them. Here, in the heart of innovation and tradition, we learn to think critically, act compassionately, and lead boldly. Every lecture, every late-night study session, and every moment spent with friends shapes us into the leaders of tomorrow. Let’s embrace the journey, celebrate our diverse community, and strive for excellence together. 💙💛 #DukeUniversity #BlueDevilPride #Inspiration\" 🌟 | Shifted tone to 'inspirational'; focused on critical thinking and community                                         | Inspires through values of critical thinking and leadership      |\n",
    "| Give me some creative text on the Duke campus for my Instagram post.                     | Changed 'Duke University' to 'the Duke campus'      | 🌟✨ Strolling through the enchanting Duke University campus, where every corner whispers stories of innovation and tradition. From the majestic Duke Chapel piercing the sky to the serene beauty of the Sarah P. Duke Gardens, this place feels like a dream woven into reality. 🌿💙 Whether it’s the vibrant fall leaves or the sun-kissed stone pathways, every moment here is a reminder that magic exists in the everyday. Here’s to chasing knowledge, forging friendships, and creating memories that will last a lifetime! 📚💫 #DukeUniversity #CampusVibes #BlueDevilDreams | Enhanced sensory details about the campus; focus on natural imagery                                                | Adds rich imagery, connecting more deeply to campus elements             |\n",
    "| Give me some creative text on Duke University for my Instagram post. with hashtags       | Added 'with hashtags'                               | 🌟✨ Discovering the magic of Duke University! From the stunning Gothic architecture to the vibrant campus life, every corner tells a story. Whether it’s the breathtaking views from the Duke Gardens or the electric atmosphere at a Blue Devils game, there’s an undeniable spirit that makes this place feel like home. Here’s to the friendships, the late-night study sessions, and the unforgettable memories! 💙💛 #DukeUniversity #BlueDevils #CampusLife #DukeGardens #CollegeMemories #HigherEducation #DukePride #ExploreDuke #AcademicExcellence #FutureLeaders | Increased hashtag use and included specific campus locations                                                | Engages audience with hashtags, focuses on events and memories        |\n",
    "| Give me some creative text on Duke University for my social media post.                  | Changed 'Instagram' to 'social media'               | 🌟✨ Discover the magic of Duke University! 🌟✨ Nestled in the heart of North Carolina, this iconic institution is more than just a university—it's a vibrant community where innovation meets tradition. From the stunning Gothic architecture of Duke Chapel to the serene beauty of the Sarah P. Duke Gardens, every corner of this campus tells a story. 📚💙 At Duke, students are not just learners; they are changemakers, thinkers, and dreamers. With a commitment to academic excellence and a passion for service, Blue Devils are shaping the future in fields ranging from medicine to environmental science. 🌍💡 | Wider reach with 'social media' wording; celebratory tone for community | Showcases broader community feel and sense of place                         |\n",
    "| Give me some creative caption on Duke University for my Instagram post.                  | Changed 'text' to 'caption'                         | Sure! Here are some creative captions you can use for your Duke University Instagram post: (10 captions)                                                                                                                                                          | Multiple suggested captions instead of single text                                                       | Broader format with multiple captions for flexibility            |\n",
    "| Give me some creative text on Duke University for my Instagram post.!!!                  | Added exclamation marks at the end                  | 🌟✨ Discovering the magic of Duke University! 📚💙 From the stunning Gothic architecture to the vibrant blue skies, every corner of this campus tells a story. Whether I'm wandering through the beautiful gardens or soaking in the energy of the students, I’m constantly inspired by the spirit of innovation and excellence that thrives here. 🏛️🌿 Here’s to late-night study sessions, unforgettable friendships, and the pursuit of knowledge! 🎓💡 #DukeUniversity #BlueDevilPride #CampusVibes #Inspiration #CollegeLife | Emphasized sense of place; highlighted students and excellence culture                                 | Blends institutional pride with individual experiences      |\n"
   ]
  }
 ],
 "metadata": {
  "kernelspec": {
   "display_name": "env",
   "language": "python",
   "name": "python3"
  },
  "language_info": {
   "codemirror_mode": {
    "name": "ipython",
    "version": 3
   },
   "file_extension": ".py",
   "mimetype": "text/x-python",
   "name": "python",
   "nbconvert_exporter": "python",
   "pygments_lexer": "ipython3",
   "version": "3.9.6"
  }
 },
 "nbformat": 4,
 "nbformat_minor": 2
}
